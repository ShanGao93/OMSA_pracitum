{
 "cells": [
  {
   "cell_type": "code",
   "execution_count": 2,
   "metadata": {},
   "outputs": [],
   "source": [
    "import os.path\n",
    "__file__ = os.path.abspath('')\n",
    "import sys\n",
    "from pathlib import Path\n",
    "project_folder = Path(__file__).absolute()\n",
    "sys.path.append(str(project_folder))\n",
    "\n",
    "import librosa\n",
    "import matplotlib as mpl\n",
    "import matplotlib.pyplot as plt\n",
    "import pandas as pd\n",
    "import numpy as np\n",
    "import scipy as sp\n",
    "\n",
    "from audiot.audio_features import AudioFeatures, calc_log_mel_energy_features\n",
    "from audiot.audio_signal import AudioSignal\n",
    "from audiot.audio_labels import load_labels"
   ]
  },
  {
   "cell_type": "code",
   "execution_count": 3,
   "metadata": {},
   "outputs": [],
   "source": [
    "data = {}\n",
    "# test_data contains all cleaned label\n",
    "# samll set contains only 10 sets \n",
    "for filename in os.listdir(project_folder / \"small_set\"):\n",
    "    if 'ch2' not in filename:# mac DS store \n",
    "        continue\n",
    "    id = filename[:filename.rindex('ch2')-1]\n",
    "    type = filename.split('.')[-1]\n",
    "    if id not in data:\n",
    "        data[id] = {}\n",
    "    if type == \"flac\":\n",
    "        data[id][\"features\"] = project_folder / \"small_set\" / filename\n",
    "    else:\n",
    "        data[id][\"labels\"] = project_folder / \"small_set\" / filename"
   ]
  },
  {
   "cell_type": "code",
   "execution_count": 4,
   "metadata": {},
   "outputs": [],
   "source": [
    "import warnings\n",
    "warnings.filterwarnings('ignore')\n",
    "\n",
    "num_files = int(len(data))\n",
    "X = np.zeros((2401*num_files,13))# test num_files test files \n",
    "y = np.zeros((2401*num_files,1))\n",
    "i = 0 \n",
    "for d in data.values():\n",
    "    x_path, y_path = d[\"features\"], d[\"labels\"]\n",
    "    signal = AudioSignal.from_file(x_path)\n",
    "    label = load_labels(y_path)\n",
    "    features = calc_log_mel_energy_features(signal)\n",
    "    features.event_names = [\"cough\"]\n",
    "    features.match_labels(label)\n",
    "    X[2401*i:2401*(i+1),:] = features.features    \n",
    "    y[2401*i:2401*(i+1)] = features.true_events\n",
    "    i = i+1 "
   ]
  },
  {
   "cell_type": "code",
   "execution_count": 5,
   "metadata": {},
   "outputs": [],
   "source": [
    "#from sklearn.model_selection import train_test_split\n",
    "from sklearn.svm import SVC\n",
    "from sklearn.metrics import confusion_matrix\n",
    "from sklearn.metrics import fbeta_score\n",
    "from sklearn.model_selection import StratifiedShuffleSplit\n",
    "from sklearn.model_selection import GridSearchCV\n",
    "from sklearn.model_selection import train_test_split\n",
    "x_train, x_test, y_train, y_test = train_test_split(X, y, train_size=0.70, random_state=555)"
   ]
  },
  {
   "cell_type": "code",
   "execution_count": 6,
   "metadata": {},
   "outputs": [
    {
     "name": "stdout",
     "output_type": "stream",
     "text": [
      "===================================\n",
      "SVM confusion matrix\n",
      "[[715   0]\n",
      " [  6   0]]\n"
     ]
    }
   ],
   "source": [
    "clf = SVC(kernel='rbf')\n",
    "clf.fit(x_train, y_train)\n",
    "y_pred = clf.predict(x_test)\n",
    "matrix = confusion_matrix(y_test, y_pred)\n",
    "tn, fp, fn, tp = confusion_matrix(y_test, y_pred).ravel()\n",
    "F5_score = fbeta_score(y_test, y_pred, beta=0.5)\n",
    "F1_score = fbeta_score(y_test, y_pred, beta=1)\n",
    "print(\"===================================\")\n",
    "print(\"SVM confusion matrix\")\n",
    "print(matrix)"
   ]
  },
  {
   "cell_type": "code",
   "execution_count": 7,
   "metadata": {},
   "outputs": [
    {
     "name": "stdout",
     "output_type": "stream",
     "text": [
      "# Tuning hyper-parameters for precision\n",
      "\n",
      "Best parameters set found on development set:\n",
      "\n",
      "{'C': 10, 'gamma': 0.1, 'kernel': 'rbf'}\n",
      "\n",
      "Grid scores on development set:\n",
      "\n",
      "0.492 (+/-0.001) for {'C': 1, 'gamma': 0.01, 'kernel': 'rbf'}\n",
      "0.492 (+/-0.001) for {'C': 1, 'gamma': 0.1, 'kernel': 'rbf'}\n",
      "0.492 (+/-0.001) for {'C': 10, 'gamma': 0.01, 'kernel': 'rbf'}\n",
      "0.880 (+/-0.204) for {'C': 10, 'gamma': 0.1, 'kernel': 'rbf'}\n",
      "0.710 (+/-0.391) for {'C': 100, 'gamma': 0.01, 'kernel': 'rbf'}\n",
      "0.770 (+/-0.134) for {'C': 100, 'gamma': 0.1, 'kernel': 'rbf'}\n",
      "0.844 (+/-0.267) for {'C': 1000, 'gamma': 0.01, 'kernel': 'rbf'}\n",
      "0.715 (+/-0.061) for {'C': 1000, 'gamma': 0.1, 'kernel': 'rbf'}\n",
      "0.492 (+/-0.001) for {'C': 1, 'kernel': 'linear'}\n",
      "0.492 (+/-0.001) for {'C': 10, 'kernel': 'linear'}\n",
      "0.492 (+/-0.001) for {'C': 100, 'kernel': 'linear'}\n",
      "0.492 (+/-0.001) for {'C': 1000, 'kernel': 'linear'}\n",
      "\n",
      "Detailed classification report:\n",
      "\n",
      "The model is trained on the full development set.\n",
      "The scores are computed on the full evaluation set.\n",
      "\n",
      "              precision    recall  f1-score   support\n",
      "\n",
      "         0.0       0.99      1.00      0.99       715\n",
      "         1.0       0.25      0.17      0.20         6\n",
      "\n",
      "    accuracy                           0.99       721\n",
      "   macro avg       0.62      0.58      0.60       721\n",
      "weighted avg       0.99      0.99      0.99       721\n",
      "\n",
      "\n",
      "# Tuning hyper-parameters for recall\n",
      "\n",
      "Best parameters set found on development set:\n",
      "\n",
      "{'C': 1000, 'gamma': 0.1, 'kernel': 'rbf'}\n",
      "\n",
      "Grid scores on development set:\n",
      "\n",
      "0.500 (+/-0.000) for {'C': 1, 'gamma': 0.01, 'kernel': 'rbf'}\n",
      "0.500 (+/-0.000) for {'C': 1, 'gamma': 0.1, 'kernel': 'rbf'}\n",
      "0.500 (+/-0.000) for {'C': 10, 'gamma': 0.01, 'kernel': 'rbf'}\n",
      "0.679 (+/-0.167) for {'C': 10, 'gamma': 0.1, 'kernel': 'rbf'}\n",
      "0.569 (+/-0.126) for {'C': 100, 'gamma': 0.01, 'kernel': 'rbf'}\n",
      "0.727 (+/-0.051) for {'C': 100, 'gamma': 0.1, 'kernel': 'rbf'}\n",
      "0.658 (+/-0.123) for {'C': 1000, 'gamma': 0.01, 'kernel': 'rbf'}\n",
      "0.728 (+/-0.090) for {'C': 1000, 'gamma': 0.1, 'kernel': 'rbf'}\n",
      "0.500 (+/-0.000) for {'C': 1, 'kernel': 'linear'}\n",
      "0.500 (+/-0.000) for {'C': 10, 'kernel': 'linear'}\n",
      "0.500 (+/-0.000) for {'C': 100, 'kernel': 'linear'}\n",
      "0.500 (+/-0.000) for {'C': 1000, 'kernel': 'linear'}\n",
      "\n",
      "Detailed classification report:\n",
      "\n",
      "The model is trained on the full development set.\n",
      "The scores are computed on the full evaluation set.\n",
      "\n",
      "              precision    recall  f1-score   support\n",
      "\n",
      "         0.0       0.99      0.99      0.99       715\n",
      "         1.0       0.20      0.33      0.25         6\n",
      "\n",
      "    accuracy                           0.98       721\n",
      "   macro avg       0.60      0.66      0.62       721\n",
      "weighted avg       0.99      0.98      0.99       721\n",
      "\n",
      "\n"
     ]
    }
   ],
   "source": [
    "\n",
    "from sklearn.metrics import classification_report\n",
    "# Set the parameters by cross-validation,\n",
    "#code from site https://scikit-learn.org/stable/auto_examples/model_selection/plot_grid_search_digits.html\n",
    "tuning_parameters = [{'kernel': ['rbf'], 'gamma': [1e-2, 1e-1],\n",
    "                     'C': [1, 10, 100, 1000]},\n",
    "                    {'kernel': ['linear'], 'C': [1, 10, 100, 1000]}]\n",
    "\n",
    "scores = ['precision', 'recall']\n",
    "\n",
    "for score in scores:\n",
    "    print(\"# Tuning hyper-parameters for %s\" % score)\n",
    "    print()\n",
    "\n",
    "    clf = GridSearchCV(\n",
    "        SVC(), tuning_parameters, scoring='%s_macro' % score\n",
    "    )\n",
    "    clf.fit(x_train, y_train)\n",
    "\n",
    "    print(\"Best parameters set found on development set:\")\n",
    "    print()\n",
    "    print(clf.best_params_)\n",
    "    print()\n",
    "    print(\"Grid scores on development set:\")\n",
    "    print()\n",
    "    means = clf.cv_results_['mean_test_score']\n",
    "    stds = clf.cv_results_['std_test_score']\n",
    "    for mean, std, params in zip(means, stds, clf.cv_results_['params']):\n",
    "        print(\"%0.3f (+/-%0.03f) for %r\"\n",
    "              % (mean, std * 2, params))\n",
    "    print()\n",
    "\n",
    "    print(\"Detailed classification report:\")\n",
    "    print()\n",
    "    print(\"The model is trained on the full development set.\")\n",
    "    print(\"The scores are computed on the full evaluation set.\")\n",
    "    print()\n",
    "    y_true, y_pred = y_test, clf.predict(x_test)\n",
    "    print(classification_report(y_true, y_pred))\n",
    "    print()"
   ]
  },
  {
   "cell_type": "code",
   "execution_count": 9,
   "metadata": {},
   "outputs": [
    {
     "data": {
      "text/plain": [
       "array([[707,   8],\n",
       "       [  4,   2]])"
      ]
     },
     "execution_count": 9,
     "metadata": {},
     "output_type": "execute_result"
    }
   ],
   "source": [
    "matrix = confusion_matrix(y_test, y_pred)\n",
    "matrix"
   ]
  },
  {
   "cell_type": "code",
   "execution_count": null,
   "metadata": {},
   "outputs": [],
   "source": [
    "## Jun 14 update\n",
    "#F0_5 =((1+0.5^2) * Precision * Recall) / (0.5^2 * Precision + Recall)"
   ]
  },
  {
   "cell_type": "code",
   "execution_count": 10,
   "metadata": {},
   "outputs": [
    {
     "data": {
      "text/plain": [
       "0.25"
      ]
     },
     "execution_count": 10,
     "metadata": {},
     "output_type": "execute_result"
    }
   ],
   "source": [
    "0.5**2"
   ]
  },
  {
   "cell_type": "code",
   "execution_count": null,
   "metadata": {},
   "outputs": [],
   "source": []
  }
 ],
 "metadata": {
  "kernelspec": {
   "display_name": "Python 3",
   "language": "python",
   "name": "python3"
  },
  "language_info": {
   "codemirror_mode": {
    "name": "ipython",
    "version": 3
   },
   "file_extension": ".py",
   "mimetype": "text/x-python",
   "name": "python",
   "nbconvert_exporter": "python",
   "pygments_lexer": "ipython3",
   "version": "3.6.4"
  }
 },
 "nbformat": 4,
 "nbformat_minor": 2
}
