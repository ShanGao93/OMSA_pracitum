{
 "cells": [
  {
   "cell_type": "code",
   "execution_count": null,
   "metadata": {},
   "outputs": [],
   "source": [
    "## predict chirps on unlabelled data\n",
    "unlabelled_folder = Path(r'./young_chirps_unlabelled/')\n",
    "unlabelled_audio = list(unlabelled_folder.glob(\"*.flac\"))"
   ]
  },
  {
   "cell_type": "code",
   "execution_count": null,
   "metadata": {},
   "outputs": [],
   "source": [
    "import collections\n",
    "import datetime\n",
    "def run_cough_detector(cough_detector, single_audio_file):\n",
    "    n_mel = 17 \n",
    "    date_time_obj = datetime.datetime.strptime(str(single_audio_file)[35:54], '%Y-%m-%d_%H.%M.%S')\n",
    "    date_index = int(str(test_file)[43:45])\n",
    "                                               \n",
    "    signal = AudioSignal.from_file(single_audio_file)\n",
    "    features = calc_log_mel_energy_features(signal,n_mels = n_mel,\n",
    "                                            window_length_seconds = 0.06)\n",
    "    features_summed = np.sum(features.features, axis=1)\n",
    "    features.event_names = [\"cough\"]\n",
    "    train_features = features.features\n",
    "    y_pred = y_pred = [bool(c) for c in cough_detector.predict(train_features)]\n",
    "\n",
    "    labels_dataframe = pd.DataFrame(\n",
    "        {\n",
    "            \"onset\": pd.Series(features.frame_start_times[y_pred]),\n",
    "            \"offset\": pd.Series(features.frame_end_times[y_pred]),\n",
    "            \"event_label\": pd.Series(\"chirp\", index=range(np.sum(y_pred))),\n",
    "        }\n",
    "    )\n",
    "    labels_dataframe = clean_overlapping_labels(labels_dataframe)\n",
    "    c = collections.Counter(list(labels_dataframe.iloc[:,-1]))\n",
    "    return date_index,date_time_obj,c[\"chirp\"]"
   ]
  },
  {
   "cell_type": "code",
   "execution_count": null,
   "metadata": {},
   "outputs": [],
   "source": [
    "clock_unlabelled = {7:{},8:{}}\n",
    "for item in unlabelled_audio:\n",
    "    date_index,date_time_obj,num_chirps= run_cough_detector(knn_chirp,item)\n",
    "    clock_unlabelled[date_index][date_time_obj] = num_chirps"
   ]
  },
  {
   "cell_type": "code",
   "execution_count": null,
   "metadata": {},
   "outputs": [],
   "source": [
    "# padding zeros for data that we are not predicting\n",
    "for mins in range(44):\n",
    "    hours = mins // 60\n",
    "    minutes = mins % 60\n",
    "    date_time_obj = datetime.datetime.strptime(\"2020-02-08_\"+str(hours)+\".\"+str(minutes)+'.30', \n",
    "                                                   '%Y-%m-%d_%H.%M.%S');\n",
    "    clock_unlabelled[8][date_time_obj] = 0\n",
    "    \n",
    "for mins in range(121,1261):\n",
    "    hours = mins // 60\n",
    "    minutes = mins % 60\n",
    "    date_time_obj = datetime.datetime.strptime(\"2020-02-08_\"+str(hours)+\".\"+str(minutes)+'.30', \n",
    "                                                   '%Y-%m-%d_%H.%M.%S');\n",
    "    \n",
    "for mins in range(1380,1420):\n",
    "    hours = mins // 60\n",
    "    minutes = mins % 60\n",
    "    date_time_obj = datetime.datetime.strptime(\"2020-02-08_\"+str(hours)+\".\"+str(minutes)+'.30', \n",
    "                                                   '%Y-%m-%d_%H.%M.%S');\n",
    "    clock_unlabelled[8][date_time_obj] = 0\n",
    "clock_unlabelled"
   ]
  },
  {
   "cell_type": "code",
   "execution_count": null,
   "metadata": {},
   "outputs": [],
   "source": [
    "# unlabelled data\n",
    "dfn = pd.DataFrame.from_dict(clock_unlabelled[8], orient='index')\n",
    "dfn.sort_index(inplace=True)\n",
    "dfn.index.name = 'time'\n",
    "dfn.reset_index(inplace=True)\n",
    "dfn.columns = ['time', 'counts']\n",
    "dfn.head()"
   ]
  },
  {
   "cell_type": "code",
   "execution_count": null,
   "metadata": {},
   "outputs": [],
   "source": [
    "## removing all other labeled data to this notebook\n",
    "## couting chirps label in the labeled data\n",
    "chirp_train_folder = Path(r'./young_chirps/')\n",
    "chirp_train_labels_list = list(chirp_train_folder.glob(\"*.txt\"))\n",
    "\n",
    "chirp_test_folder = Path(r'./young_chirps_test/')\n",
    "chirp_test_labels_list = list(chirp_test_folder.glob(\"*.txt\"))"
   ]
  },
  {
   "cell_type": "code",
   "execution_count": null,
   "metadata": {},
   "outputs": [],
   "source": [
    "import collections\n",
    "import datetime\n",
    "print(\"young chirps folder...\")\n",
    "clock = {7:{},8:{}}\n",
    "\n",
    "for mins in range(1260,1440):\n",
    "    hours = mins // 60\n",
    "    minutes = mins % 60\n",
    "    date_time_obj = datetime.datetime.strptime(\"2020-02-07_\"+str(hours)+\".\"+str(minutes)+'.30', \n",
    "                                                   '%Y-%m-%d_%H.%M.%S');\n",
    "    clock[7][date_time_obj] = 0\n",
    "\n",
    "for mins in range(1440):\n",
    "    hours = mins // 60\n",
    "    minutes = mins % 60\n",
    "    date_time_obj = datetime.datetime.strptime(\"2020-02-08_\"+str(hours)+\".\"+str(minutes)+'.30', \n",
    "                                                   '%Y-%m-%d_%H.%M.%S');\n",
    "    clock[8][date_time_obj] = 0\n",
    "        \n",
    "for _, y_path in enumerate(chirp_train_labels_list+chirp_test_labels_list):\n",
    "#     print(y_path)\n",
    "    path = str(y_path).replace('young_chirps_test', 'young_chirps')\n",
    "    times = str(path[35:40])\n",
    "    time_index = 60*int(times[0:2])+int(times[3:])\n",
    "    date_time_obj = datetime.datetime.strptime(path[24:43], '%Y-%m-%d_%H.%M.%S')\n",
    "    times = date_time_obj\n",
    "    date_index = int(path[32:34])\n",
    "    \n",
    "    try:# in case there are empty files\n",
    "        label_data = pd.read_csv(y_path, sep=\"\\t\", header=None)\n",
    "        c = collections.Counter(list(label_data.iloc[:,-1]))\n",
    "        clock[date_index][times] = c[\"chirp\"]\n",
    "    except: \n",
    "        clock[date_index][times] = 0"
   ]
  },
  {
   "cell_type": "code",
   "execution_count": null,
   "metadata": {},
   "outputs": [],
   "source": [
    "df7 = pd.DataFrame.from_dict(clock[7], orient='index')\n",
    "df7.sort_index(inplace=True)\n",
    "df7.index.name = 'time'\n",
    "df7.reset_index(inplace=True)\n",
    "df7.columns = ['time', 'counts']"
   ]
  },
  {
   "cell_type": "code",
   "execution_count": null,
   "metadata": {},
   "outputs": [],
   "source": [
    "df8 = pd.DataFrame.from_dict(clock[8], orient='index')\n",
    "df8.sort_index(inplace=True)\n",
    "df8.index.name = 'time'\n",
    "df8.reset_index(inplace=True)\n",
    "df8.columns = ['time', 'counts']"
   ]
  },
  {
   "cell_type": "code",
   "execution_count": null,
   "metadata": {},
   "outputs": [],
   "source": [
    "import matplotlib.pyplot as plt\n",
    "\n",
    "xmin = datetime.datetime.strptime(\"2020-02-08_\"+'21'+\".\"+'00'+'.30', \n",
    "                                                   '%Y-%m-%d_%H.%M.%S')\n",
    "xmax = datetime.datetime.strptime(\"2020-02-08_\"+'23'+\".\"+'59'+'.30', \n",
    "                                                   '%Y-%m-%d_%H.%M.%S')\n",
    "ymin = 0\n",
    "ymax = 250\n",
    "ax = df8.plot(x = 'time', y = 'counts',color = 'green', figsize = (30,5),x_compat=True)\n",
    "ax.set(xlim=(xmin, xmax), ylim=(ymin, ymax))\n",
    "\n",
    "df7.plot(x = 'time', y = 'counts',color = 'green', ax=ax)\n",
    "dfn.plot(x = 'time', y = 'counts',color = 'blue', ax=ax)\n",
    "plt.title(\"chirp counts at the night for 2020-02-08\",fontsize = 20)\n",
    "#plt.xticks(np.arange(min(xmin), max(xmax)+1))\n",
    "ax.get_legend().remove()\n",
    "\n",
    "plt.show()"
   ]
  }
 ],
 "metadata": {
  "kernelspec": {
   "display_name": "Python 3",
   "language": "python",
   "name": "python3"
  },
  "language_info": {
   "codemirror_mode": {
    "name": "ipython",
    "version": 3
   },
   "file_extension": ".py",
   "mimetype": "text/x-python",
   "name": "python",
   "nbconvert_exporter": "python",
   "pygments_lexer": "ipython3",
   "version": "3.6.4"
  }
 },
 "nbformat": 4,
 "nbformat_minor": 2
}
