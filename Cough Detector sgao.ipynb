{
 "cells": [
  {
   "cell_type": "code",
   "execution_count": 6,
   "metadata": {},
   "outputs": [],
   "source": [
    "import os.path\n",
    "from pathlib import Path\n",
    "__file__ = os.path.abspath('')\n",
    "from pathlib import Path\n",
    "project_folder = Path(__file__).absolute()\n",
    "data = {}\n",
    "for filename in os.listdir(project_folder / \"small_set\"):\n",
    "    if 'ch2' not in filename:# mac DS store \n",
    "        continue\n",
    "    id = filename[:filename.rindex('ch2')-1]\n",
    "    type = filename.split('.')[-1]\n",
    "    if id not in data:\n",
    "        data[id] = {}\n",
    "    if type == \"flac\":\n",
    "        data[id][\"features\"] = project_folder / \"small_set\" / filename\n",
    "    else:\n",
    "        data[id][\"labels\"] = project_folder / \"small_set\" / filename"
   ]
  },
  {
   "cell_type": "code",
   "execution_count": 7,
   "metadata": {},
   "outputs": [],
   "source": [
    "# cannot run this when you download from git hub since\n",
    "# it requires actual data to run but github doesn't have it\n",
    "audio_files_list = []\n",
    "label_files_list = []\n",
    "for d in data.values():\n",
    "    x_path, y_path = d[\"features\"], d[\"labels\"]\n",
    "    audio_files_list.append(x_path)\n",
    "    label_files_list.append(y_path)"
   ]
  },
  {
   "cell_type": "code",
   "execution_count": 3,
   "metadata": {},
   "outputs": [],
   "source": [
    "\"\"\"\n",
    "Required Packages: the ones mentioned in the PythonSetupNotes \n",
    "\"\"\"\n",
    "import librosa\n",
    "import pandas as pd\n",
    "import numpy as np\n",
    "import scipy as sp\n",
    "import warnings \n",
    "warnings.filterwarnings('ignore')\n",
    "\n",
    "from audiot.audio_features import AudioFeatures, calc_log_mel_energy_features\n",
    "from audiot.audio_signal import AudioSignal\n",
    "from audiot.audio_labels import load_labels, clean_overlapping_labels\n",
    "\n",
    "\n",
    "from sklearn.svm import SVC\n",
    "from sklearn.model_selection import GridSearchCV\n",
    "from sklearn.model_selection import train_test_split\n",
    "from sklearn.metrics import precision_score\n",
    "from sklearn.metrics import recall_score\n",
    "from sklearn.metrics import confusion_matrix\n",
    "from sklearn.metrics import classification_report\n",
    "\n",
    "\n",
    "\n",
    "def train_cough_detector(audio_files_list, label_files_list):\n",
    "    \"\"\"\n",
    "    Dummy example of how your train_cough_detector function should operate.  This function just \n",
    "    \"trains\" a threshold that will classify any feature vector whose sum is above that threshold as \n",
    "    a cough (which is not a very good way to do it, but is simple for the purposes of\n",
    "    this example).        \n",
    "    Returns:\n",
    "        Object:  An object representing the trained cough detector model.  This can be any type of\n",
    "            object you want, but should match what your run_cough_detector function expects to be\n",
    "            passed in as the first parameter (named cough_detector_model in this file).  For this \n",
    "            dummy example, it returns a tuple containing the threshold and the percentile value\n",
    "            used to set that threshold based on the coughs seen in the training data: (threshold,\n",
    "            percentile_to_use_as_threshold).\n",
    "    \"\"\"\n",
    "    # tested rbf,linear,poly and sigmoid kernel on svm \n",
    "    tuning_parameters = {'C': [0.1,1, 10, 100], 'gamma': [1,0.1,0.01,0.001],'kernel': ['rbf', 'poly', 'sigmoid']}\n",
    "    scores = ['precision', 'recall']\n",
    "    print(\"Loading features...\")\n",
    "    num_files = int(len(data))\n",
    "    X = np.zeros((2401*num_files,13))# test num_files test files \n",
    "    y = np.zeros((2401*num_files,1))\n",
    "    i = 0 \n",
    "    for d in data.values():\n",
    "        x_path, y_path = d[\"features\"], d[\"labels\"]\n",
    "        signal = AudioSignal.from_file(x_path)\n",
    "        label = load_labels(y_path)\n",
    "        features = calc_log_mel_energy_features(signal)\n",
    "        features.event_names = [\"cough\"]\n",
    "        features.match_labels(label)\n",
    "        X[2401*i:2401*(i+1),:] = features.features    \n",
    "        y[2401*i:2401*(i+1)] = features.true_events\n",
    "        i = i+1 \n",
    "    # train test split \n",
    "    x_train, x_test, y_train, y_test = train_test_split(X, y, train_size=0.70, random_state=555)\n",
    "    cough_detector = {}\n",
    "    for score in scores:\n",
    "        print(\"# Tuning hyper-parameters for %s\" % score)\n",
    "        clf = GridSearchCV(\n",
    "            SVC(), tuning_parameters, scoring='%s_macro' % score)\n",
    "        \n",
    "        clf.fit(x_train, y_train)\n",
    "\n",
    "        print(\"Best parameters set found on development set:\")\n",
    "        print(clf.best_params_)\n",
    "        y_true, y_pred = y_test, clf.predict(x_test) ## this line\n",
    "        precision = precision_score(y_true, y_pred)\n",
    "        recall = recall_score(y_true,y_pred)\n",
    "        F_05 = ((1+0.5**2) * precision * recall) / (0.5**2 * precision + recall)\n",
    "        print(\"precision\",precision, \"  recall:\",recall, \" F 0.5:\",F_05)\n",
    "        cough_detector[F_05] = clf\n",
    "        print(\"Detailed classification report:\")\n",
    "        print(classification_report(y_true, y_pred))\n",
    "        print()        \n",
    "    # Return the classifier which has the highest F0.5 score \n",
    "    return cough_detector[max(cough_detector.keys())]"
   ]
  },
  {
   "cell_type": "code",
   "execution_count": 4,
   "metadata": {},
   "outputs": [
    {
     "name": "stdout",
     "output_type": "stream",
     "text": [
      "Loading features...\n",
      "# Tuning hyper-parameters for precision\n",
      "Best parameters set found on development set:\n",
      "{'C': 0.1, 'gamma': 0.1, 'kernel': 'rbf'}\n",
      "precision 0.8888888888888888   recall: 0.3157894736842105  F 0.5: 0.6521739130434783\n",
      "Detailed classification report:\n",
      "              precision    recall  f1-score   support\n",
      "\n",
      "         0.0       0.99      1.00      0.99     10653\n",
      "         1.0       0.89      0.32      0.47       152\n",
      "\n",
      "    accuracy                           0.99     10805\n",
      "   macro avg       0.94      0.66      0.73     10805\n",
      "weighted avg       0.99      0.99      0.99     10805\n",
      "\n",
      "\n",
      "# Tuning hyper-parameters for recall\n",
      "Best parameters set found on development set:\n",
      "{'C': 10, 'gamma': 1, 'kernel': 'rbf'}\n",
      "precision 0.7627118644067796   recall: 0.5921052631578947  F 0.5: 0.7211538461538461\n",
      "Detailed classification report:\n",
      "              precision    recall  f1-score   support\n",
      "\n",
      "         0.0       0.99      1.00      1.00     10653\n",
      "         1.0       0.76      0.59      0.67       152\n",
      "\n",
      "    accuracy                           0.99     10805\n",
      "   macro avg       0.88      0.79      0.83     10805\n",
      "weighted avg       0.99      0.99      0.99     10805\n",
      "\n",
      "\n",
      "GridSearchCV(estimator=SVC(),\n",
      "             param_grid={'C': [0.1, 1, 10, 100], 'gamma': [1, 0.1, 0.01, 0.001],\n",
      "                         'kernel': ['rbf', 'poly', 'sigmoid']},\n",
      "             scoring='recall_macro')\n"
     ]
    }
   ],
   "source": [
    "cough_detector = train_cough_detector(audio_files_list, label_files_list)\n",
    "print(cough_detector)"
   ]
  },
  {
   "cell_type": "code",
   "execution_count": 5,
   "metadata": {},
   "outputs": [],
   "source": [
    "num_files = int(len(data))\n",
    "X = np.zeros((2401*num_files,13))# test num_files test files \n",
    "y = np.zeros((2401*num_files,1))\n",
    "i = 0 \n",
    "\n",
    "for d in data.values():\n",
    "    x_path, y_path = d[\"features\"], d[\"labels\"]\n",
    "    signal = AudioSignal.from_file(x_path)\n",
    "    label = load_labels(y_path)\n",
    "    features = calc_log_mel_energy_features(signal)\n",
    "    features.event_names = [\"cough\"]\n",
    "    features.match_labels(label)\n",
    "    X[2401*i:2401*(i+1),:] = features.features    \n",
    "    y[2401*i:2401*(i+1)] = features.true_events\n",
    "    i = i+1 \n",
    "    \n",
    "x_train, x_test, y_train, y_test = train_test_split(X, y, train_size=0.70, random_state=555)\n"
   ]
  },
  {
   "cell_type": "code",
   "execution_count": 6,
   "metadata": {},
   "outputs": [
    {
     "data": {
      "text/plain": [
       "array([[10625,    28],\n",
       "       [   62,    90]])"
      ]
     },
     "execution_count": 6,
     "metadata": {},
     "output_type": "execute_result"
    }
   ],
   "source": [
    "y_pred = cough_detector.predict(x_test)\n",
    "matrix = confusion_matrix(y_test, y_pred)\n",
    "matrix"
   ]
  },
  {
   "cell_type": "code",
   "execution_count": null,
   "metadata": {},
   "outputs": [],
   "source": [
    "def run_cough_detector(cough_detector, audio_file):\n",
    "    \"\"\"\n",
    "    Args:\n",
    "        in my couph detector I have a list of dictionaries contains SVM parameters, C, gamma, and kernel\n",
    "\n",
    "        audio_file (Path): A pathlib.Path object containing the path to the audio recording that \n",
    "            the cough detector should be run on.  You'll need to load this file, calculate whatever\n",
    "            features you are using from it (along with the time windows that they span), classify \n",
    "            them as coughs or not, then build and return a labels_dataframe that matches format \n",
    "            you get when you read in an Audacity label file using audio_labels.load_labels().\n",
    "    \n",
    "    Returns:\n",
    "        DataFrame: A pandas DataFrame with an \"onset\" column specifying the beginning time of each\n",
    "            cough detected in the file (in seconds), an \"offset\" column specifying the ending time\n",
    "            of each cough detected in the file (also in seconds), and an \"event_label\" column \n",
    "            containing the label for each detected event (\"cough\" in this case).\n",
    "    \"\"\"\n",
    "    X = np.zeros((2401,13))\n",
    "    signal = AudioSignal.from_file(audio_file)\n",
    "    features = calc_log_mel_energy_features(signal)\n",
    "    features_summed = np.sum(features.features, axis=1)\n",
    "    features.event_names = [\"cough\"]\n",
    "    X[0:2401,:] = features.features   \n",
    "    y_pred = y_pred = [bool(c) for c in cough_detector.predict(X)] \n",
    "\n",
    "    labels_dataframe = pd.DataFrame(\n",
    "        {\n",
    "            \"onset\": pd.Series(features.frame_start_times[y_pred]),\n",
    "            \"offset\": pd.Series(features.frame_end_times[y_pred]),\n",
    "            \"event_label\": pd.Series(\"cough\", index=range(np.sum(y_pred))),\n",
    "        }\n",
    "    )\n",
    "    labels_dataframe = clean_overlapping_labels(labels_dataframe)\n",
    "    return labels_dataframe"
   ]
  },
  {
   "cell_type": "code",
   "execution_count": 8,
   "metadata": {},
   "outputs": [
    {
     "data": {
      "text/plain": [
       "[PosixPath('/Users/shangao/Downloads/audio-analysis/small_set/LT3-G3_2014-11-03_20.06.00_ch2_label.txt'),\n",
       " PosixPath('/Users/shangao/Downloads/audio-analysis/small_set/LT3-G3_2014-11-03_21.12.00_ch2_label.txt'),\n",
       " PosixPath('/Users/shangao/Downloads/audio-analysis/small_set/LT3-G3_2014-11-03_22.22.00_ch2_label.txt'),\n",
       " PosixPath('/Users/shangao/Downloads/audio-analysis/small_set/LT3-G3_2014-11-03_22.02.00_ch2_label.txt'),\n",
       " PosixPath('/Users/shangao/Downloads/audio-analysis/small_set/LT3-G3_2014-11-03_20.44.00_ch2_label.txt'),\n",
       " PosixPath('/Users/shangao/Downloads/audio-analysis/small_set/LT3-G3_2014-11-03_21.23.00_ch2_label.txt'),\n",
       " PosixPath('/Users/shangao/Downloads/audio-analysis/small_set/LT3-G3_2014-11-03_20.22.00_ch2_label.txt'),\n",
       " PosixPath('/Users/shangao/Downloads/audio-analysis/small_set/LT3-G3_2014-11-03_20.35.00_ch2_label.txt'),\n",
       " PosixPath('/Users/shangao/Downloads/audio-analysis/small_set/LT3-G3_2014-11-03_20.25.00_ch2_label.txt'),\n",
       " PosixPath('/Users/shangao/Downloads/audio-analysis/small_set/LT3-G3_2014-11-03_20.55.00_ch2_label.txt')]"
      ]
     },
     "execution_count": 8,
     "metadata": {},
     "output_type": "execute_result"
    }
   ],
   "source": [
    "### develop labels per minute count "
   ]
  },
  {
   "cell_type": "code",
   "execution_count": null,
   "metadata": {},
   "outputs": [],
   "source": []
  }
 ],
 "metadata": {
  "kernelspec": {
   "display_name": "Python 3",
   "language": "python",
   "name": "python3"
  },
  "language_info": {
   "codemirror_mode": {
    "name": "ipython",
    "version": 3
   },
   "file_extension": ".py",
   "mimetype": "text/x-python",
   "name": "python",
   "nbconvert_exporter": "python",
   "pygments_lexer": "ipython3",
   "version": "3.6.4"
  }
 },
 "nbformat": 4,
 "nbformat_minor": 2
}
